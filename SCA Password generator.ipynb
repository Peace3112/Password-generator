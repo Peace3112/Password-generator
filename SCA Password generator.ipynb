{
 "cells": [
  {
   "cell_type": "code",
   "execution_count": 1,
   "metadata": {},
   "outputs": [
    {
     "data": {
      "text/plain": [
       "'A program which generates a random password for the user. \\nAsks how long they want their password to be and how many letters and numbers they want in their password.\\nPassword would be a mixture of upper and lower case letters, symbols and numbers\\nPassword must have atleast 6 characters'"
      ]
     },
     "execution_count": 1,
     "metadata": {},
     "output_type": "execute_result"
    }
   ],
   "source": [
    "'''A program which generates a random password for the user. \n",
    "Asks how long they want their password to be and how many letters and numbers they want in their password.\n",
    "Password would be a mixture of upper and lower case letters, symbols and numbers\n",
    "Password must have atleast 6 characters'''\n"
   ]
  },
  {
   "cell_type": "code",
   "execution_count": 2,
   "metadata": {},
   "outputs": [],
   "source": [
    "import numpy as np\n",
    "from numpy.random import choice,shuffle\n",
    "import pandas as pd\n",
    "import sys"
   ]
  },
  {
   "cell_type": "code",
   "execution_count": 3,
   "metadata": {},
   "outputs": [],
   "source": [
    "import string\n",
    "letters= list(string.ascii_letters)\n",
    "numbers= list(string.digits)\n",
    "symbols=list(string.punctuation)"
   ]
  },
  {
   "cell_type": "code",
   "execution_count": 4,
   "metadata": {},
   "outputs": [],
   "source": [
    "def main():\n",
    "    print('\\nWelcome! :-) \\nThis program will help you to generate a password.')\n",
    "    checker1()\n",
    "    \n",
    "    print('\\nYour password is: {}'.format(password))\n",
    "    switch()\n",
    "    \n",
    "   \n",
    "    "
   ]
  },
  {
   "cell_type": "code",
   "execution_count": 5,
   "metadata": {},
   "outputs": [],
   "source": [
    "#This function ensures that the user's password length is atleast 6\n",
    "def checker1():\n",
    "    global len_pwd\n",
    "    \n",
    "    try:\n",
    "        len_pwd= int(input('How long do you want your password to be?:\\n '))\n",
    "        \n",
    "        if len_pwd<6:\n",
    "            print('Your password must have atleast 6 characters. Please try again.')\n",
    "            checker1()\n",
    "        else:\n",
    "            checker2()\n",
    "                \n",
    "    except ValueError:\n",
    "        print('Please enter an integer which is greater than 6')\n",
    "        checker1()\n",
    "             \n",
    "   "
   ]
  },
  {
   "cell_type": "code",
   "execution_count": 6,
   "metadata": {},
   "outputs": [],
   "source": [
    "#This function ensures that the no of letter and numbers enters entered is not greater than the length of password required\n",
    "#This is to avoid arithmetic error\n",
    "def checker2():\n",
    "    global no_letters\n",
    "    global no_numbers\n",
    "    global no_symbols\n",
    "   \n",
    "    no_letters= int(input('\\nHow many letters do you want in your password?:\\n'))\n",
    "    no_numbers= int(input('\\nHow many numbers do you want in your password?:\\n'))\n",
    "    no_symbols= len_pwd - (no_letters + no_numbers)\n",
    "\n",
    "    try:\n",
    "        if (no_letters + no_numbers+ no_symbols) > len_pwd:\n",
    "            print('\\nThe number of letters and numbers you want cannot be greater than your password length')\n",
    "            checker2()\n",
    "        else:\n",
    "            generate_password()  \n",
    "            \n",
    "    except ArithmeticError and ValueError:\n",
    "        print('\\nInvalid Input. \\nEnsure that the sum of the number of letters and symbols entered is not greater the length password')\n",
    "        checker2()"
   ]
  },
  {
   "cell_type": "code",
   "execution_count": 7,
   "metadata": {},
   "outputs": [],
   "source": [
    "#This is the function that actually generates the password\n",
    "def generate_password():\n",
    "    global password\n",
    "    sample_letters=''.join(choice(letters,no_letters))\n",
    "    # You can also use: ''.join(secrets.SystemRandom().choice(letters) for i in range(no_letters))\n",
    "    sample_numbers= ''.join(choice(numbers,no_numbers))\n",
    "    sample_symbols= ''.join(choice(symbols,no_symbols))\n",
    "    raw_password=sample_letters + sample_numbers + sample_symbols\n",
    "    \n",
    "    password=list(raw_password)\n",
    "    shuffle(password)\n",
    "    password=''.join(password)\n",
    "    \n",
    "    return(password)"
   ]
  },
  {
   "cell_type": "code",
   "execution_count": 8,
   "metadata": {},
   "outputs": [],
   "source": [
    "#This function allows the user to generate a new password or not. It also catches value error\n",
    "def switch():\n",
    "    global on\n",
    "    try:\n",
    "        print('\\nDo you want to generate another password?')\n",
    "        on= input('\\nPlease enter Yes or No \\n').lower()\n",
    "        on= on.lower() #This turns the user's input to lowercase\n",
    "        if on=='yes':\n",
    "            main()\n",
    "        elif on=='no':\n",
    "            sys.exit() \n",
    "        else:\n",
    "            print('\\nInvalid Input. Enter yes or no')\n",
    "            switch()\n",
    "    except ValueError:\n",
    "        print('\\nInvalid Input')\n",
    "        sys.exit()\n",
    "        "
   ]
  },
  {
   "cell_type": "code",
   "execution_count": 9,
   "metadata": {},
   "outputs": [
    {
     "name": "stdout",
     "output_type": "stream",
     "text": [
      "\n",
      "Welcome! :-) \n",
      "This program will help you to generate a password.\n",
      "How long do you want your password to be?:\n",
      " 4\n",
      "Your password must have atleast 6 characters. Please try again.\n",
      "How long do you want your password to be?:\n",
      " 12\n",
      "\n",
      "How many letters do you want in your password?:\n",
      "5\n",
      "\n",
      "How many numbers do you want in your password?:\n",
      "2\n",
      "\n",
      "Your password is: @K\\4QCg(?6f!\n",
      "\n",
      "Do you want to generate another password?\n",
      "\n",
      "Please enter Yes or No \n",
      "123\n",
      "\n",
      "Invalid Input. Enter yes or no\n",
      "\n",
      "Do you want to generate another password?\n",
      "\n",
      "Please enter Yes or No \n",
      "YES\n",
      "\n",
      "Welcome! :-) \n",
      "This program will help you to generate a password.\n",
      "How long do you want your password to be?:\n",
      " 7\n",
      "\n",
      "How many letters do you want in your password?:\n",
      "23\n",
      "\n",
      "How many numbers do you want in your password?:\n",
      "13\n",
      "\n",
      "Invalid Input. \n",
      "Ensure that the sum of number of letters and symbols entered is not greater the length of your pasword\n",
      "\n",
      "How many letters do you want in your password?:\n",
      "2\n",
      "\n",
      "How many numbers do you want in your password?:\n",
      "4\n",
      "\n",
      "Your password is: 1RO%662\n",
      "\n",
      "Do you want to generate another password?\n",
      "\n",
      "Please enter Yes or No \n",
      "no\n"
     ]
    },
    {
     "ename": "SystemExit",
     "evalue": "",
     "output_type": "error",
     "traceback": [
      "An exception has occurred, use %tb to see the full traceback.\n",
      "\u001b[1;31mSystemExit\u001b[0m\n"
     ]
    },
    {
     "name": "stderr",
     "output_type": "stream",
     "text": [
      "C:\\Users\\ADEGBITE BOLA\\anaconda3\\lib\\site-packages\\IPython\\core\\interactiveshell.py:3339: UserWarning: To exit: use 'exit', 'quit', or Ctrl-D.\n",
      "  warn(\"To exit: use 'exit', 'quit', or Ctrl-D.\", stacklevel=1)\n"
     ]
    }
   ],
   "source": [
    "main()\n"
   ]
  },
  {
   "cell_type": "code",
   "execution_count": null,
   "metadata": {},
   "outputs": [],
   "source": []
  }
 ],
 "metadata": {
  "kernelspec": {
   "display_name": "Python 3",
   "language": "python",
   "name": "python3"
  },
  "language_info": {
   "codemirror_mode": {
    "name": "ipython",
    "version": 3
   },
   "file_extension": ".py",
   "mimetype": "text/x-python",
   "name": "python",
   "nbconvert_exporter": "python",
   "pygments_lexer": "ipython3",
   "version": "3.7.6"
  }
 },
 "nbformat": 4,
 "nbformat_minor": 2
}
